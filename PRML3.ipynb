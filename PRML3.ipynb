{
  "nbformat": 4,
  "nbformat_minor": 0,
  "metadata": {
    "colab": {
      "provenance": [],
      "authorship_tag": "ABX9TyNjLbrz1rhlDfoYUAk5h2nv",
      "include_colab_link": true
    },
    "kernelspec": {
      "name": "python3",
      "display_name": "Python 3"
    },
    "language_info": {
      "name": "python"
    }
  },
  "cells": [
    {
      "cell_type": "markdown",
      "metadata": {
        "id": "view-in-github",
        "colab_type": "text"
      },
      "source": [
        "<a href=\"https://colab.research.google.com/github/KohsukeIde/PRML/blob/main/PRML3.ipynb\" target=\"_parent\"><img src=\"https://colab.research.google.com/assets/colab-badge.svg\" alt=\"Open In Colab\"/></a>"
      ]
    },
    {
      "cell_type": "code",
      "execution_count": null,
      "metadata": {
        "colab": {
          "base_uri": "https://localhost:8080/"
        },
        "id": "Zls88Z7C5eXF",
        "outputId": "d18e8af0-2710-4eb0-8865-75e055ed31dd"
      },
      "outputs": [
        {
          "output_type": "stream",
          "name": "stdout",
          "text": [
            "The optimal parameters are:\n",
            "a1 = 1.37, a2 = 0.77, b = 1.06\n",
            "The best choice is a.\n"
          ]
        }
      ],
      "source": [
        "import numpy as np\n",
        "import pandas as pd\n",
        "from sklearn.linear_model import LinearRegression\n",
        "\n",
        "# Define the data\n",
        "data = np.array([\n",
        "    [0, 0, 1],\n",
        "    [0, 1, 3],\n",
        "    [0, 2, 2],\n",
        "    [0, 3, 3],\n",
        "    [1, 0, 1],\n",
        "    [1, 1, 4],\n",
        "    [1, 2, 5],\n",
        "    [1, 3, 4],\n",
        "    [2, 0, 4],\n",
        "    [2, 1, 5],\n",
        "    [2, 2, 4],\n",
        "    [2, 3, 7]\n",
        "])\n",
        "\n",
        "X = data[:, :2]  # x(i)1 and x(i)2\n",
        "y = data[:, 2]   # y(i)\n",
        "\n",
        "model = LinearRegression()\n",
        "model.fit(X, y)\n",
        "\n",
        "# Retrieve the optimal parameters\n",
        "a1, a2 = model.coef_\n",
        "b = model.intercept_\n",
        "\n",
        "print(f\"The optimal parameters are:\")\n",
        "print(f\"a1 = {a1:.2f}, a2 = {a2:.2f}, b = {b:.2f}\")\n",
        "\n",
        "# Check against the given choices\n",
        "choices = {\n",
        "    \"a\": (1.38, 0.77, 1.06),\n",
        "    \"b\": (0.77, 1.06, 1.38),\n",
        "    \"c\": (1.74, 1.06, 1.06),\n",
        "    \"d\": (1.38, 0.77, 0.00)\n",
        "}\n",
        "\n",
        "# Compare calculated values with the choices to find the closest match\n",
        "for choice, (a1_c, a2_c, b_c) in choices.items():\n",
        "    if np.isclose(a1, a1_c, atol=0.01) and np.isclose(a2, a2_c, atol=0.01) and np.isclose(b, b_c, atol=0.01):\n",
        "        print(f\"The best choice is {choice}.\")"
      ]
    }
  ]
}